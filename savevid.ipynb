{
 "cells": [
  {
   "cell_type": "code",
   "execution_count": 1,
   "metadata": {},
   "outputs": [],
   "source": [
    "from IsingLattice import *\n",
    "import numpy as np\n",
    "import matplotlib\n",
    "matplotlib.use(\"Agg\")\n",
    "import matplotlib.pyplot as pl\n",
    "import matplotlib.animation as animation"
   ]
  },
  {
   "cell_type": "code",
   "execution_count": 2,
   "metadata": {},
   "outputs": [],
   "source": [
    "il = IsingLattice(16,16)\n",
    "spins = 16*16\n",
    "temperature = 0.5\n"
   ]
  },
  {
   "cell_type": "code",
   "execution_count": 3,
   "metadata": {},
   "outputs": [
    {
     "data": {
      "text/plain": [
       "(-1.1, 1.1)"
      ]
     },
     "execution_count": 3,
     "metadata": {},
     "output_type": "execute_result"
    }
   ],
   "source": [
    "figure = pl.figure()\n",
    "matax = figure.add_subplot(3,1,1)\n",
    "enerax = figure.add_subplot(3,1,2)\n",
    "enerax.set_ylabel(\"E per spin / k_B\")\n",
    "magnetax = figure.add_subplot(3,1,3)\n",
    "magnetax.set_ylabel(\"M per spin\")\n",
    "mat = matax.matshow(il.lattice, cmap=pl.cm.gray, vmin=-1.0, vmax=1.0)\n",
    "matax.xaxis.set_ticks([])\n",
    "matax.yaxis.set_ticks([])\n",
    "\n",
    "energies, = enerax.plot([], [], '-', lw=2, label=\"E\")\n",
    "enerax.legend()\n",
    "enerax.set_ylim(-2.1, 2.1)\n",
    "\n",
    "magnetisations, = magnetax.plot([], [], '-', lw=2, label=\"M\")\n",
    "magnetax.legend()\n",
    "magnetax.set_ylim(-1.1, 1.1)"
   ]
  },
  {
   "cell_type": "code",
   "execution_count": 4,
   "metadata": {},
   "outputs": [],
   "source": [
    "def data_gen():\n",
    "    global temperature\n",
    "    t = data_gen.t\n",
    "    spins = 16*16\n",
    "    while True:\n",
    "        energy, magnetisation = il.montecarlostep(temperature)\n",
    "        t += 1\n",
    "        yield t, il.lattice,1.0*energy/spins,1.0*magnetisation/spins\n",
    "\n",
    "data_gen.t = 0"
   ]
  },
  {
   "cell_type": "code",
   "execution_count": 5,
   "metadata": {},
   "outputs": [],
   "source": [
    "def updateFigure(data):\n",
    "    t, lattice, energy, m = data\n",
    "    mat.set_data(lattice)\n",
    "    xdata.append(t)\n",
    "    ener_ydata.append(energy)\n",
    "    m_ydata.append(m)\n",
    "    xmin, xmax = enerax.get_xlim()\n",
    "    if t >= xmax:\n",
    "        enerax.set_xlim(xmin, 2*xmax)\n",
    "        enerax.figure.canvas.draw()\n",
    "        magnetax.set_xlim(xmin, 2*xmax)\n",
    "        magnetax.figure.canvas.draw()\n",
    "    enerax.set_title(\"Step {}.\".format(t))\n",
    "    enerax.figure.canvas.draw()\n",
    "    energies.set_data(xdata, ener_ydata)\n",
    "    magnetax.figure.canvas.draw()\n",
    "    magnetisations.set_data(xdata, m_ydata)\n",
    "\n",
    "    return energies, mat"
   ]
  },
  {
   "cell_type": "code",
   "execution_count": 6,
   "metadata": {},
   "outputs": [],
   "source": [
    "anim = animation.FuncAnimation(figure, updateFigure, data_gen, repeat=False, interval=0)"
   ]
  },
  {
   "cell_type": "code",
   "execution_count": 10,
   "metadata": {},
   "outputs": [],
   "source": [
    "%matplotlib notebook"
   ]
  },
  {
   "cell_type": "code",
   "execution_count": 11,
   "metadata": {},
   "outputs": [],
   "source": [
    "pl.show()"
   ]
  },
  {
   "cell_type": "code",
   "execution_count": 14,
   "metadata": {},
   "outputs": [],
   "source": [
    "Writer = animation.writers['ffmpeg']\n",
    "writer = Writer(fps=60, metadata=dict(artist='Me'))"
   ]
  },
  {
   "cell_type": "code",
   "execution_count": 15,
   "metadata": {},
   "outputs": [
    {
     "ename": "ZeroDivisionError",
     "evalue": "float division by zero",
     "output_type": "error",
     "traceback": [
      "\u001b[1;31m---------------------------------------------------------------------------\u001b[0m",
      "\u001b[1;31mZeroDivisionError\u001b[0m                         Traceback (most recent call last)",
      "\u001b[1;32m<ipython-input-15-76c2c3437844>\u001b[0m in \u001b[0;36m<module>\u001b[1;34m()\u001b[0m\n\u001b[1;32m----> 1\u001b[1;33m \u001b[0manim\u001b[0m\u001b[1;33m.\u001b[0m\u001b[0msave\u001b[0m\u001b[1;33m(\u001b[0m\u001b[1;34m'myAnimation.mp4'\u001b[0m\u001b[1;33m,\u001b[0m \u001b[0mwriter\u001b[0m\u001b[1;33m=\u001b[0m\u001b[0mwriter\u001b[0m\u001b[1;33m)\u001b[0m\u001b[1;33m\u001b[0m\u001b[0m\n\u001b[0m",
      "\u001b[1;32mc:\\Anaconda3\\lib\\site-packages\\matplotlib\\animation.py\u001b[0m in \u001b[0;36msave\u001b[1;34m(self, filename, writer, fps, dpi, codec, bitrate, extra_args, metadata, extra_anim, savefig_kwargs, progress_callback)\u001b[0m\n\u001b[0;32m   1075\u001b[0m         \u001b[1;32mif\u001b[0m \u001b[0mfps\u001b[0m \u001b[1;32mis\u001b[0m \u001b[1;32mNone\u001b[0m \u001b[1;32mand\u001b[0m \u001b[0mhasattr\u001b[0m\u001b[1;33m(\u001b[0m\u001b[0mself\u001b[0m\u001b[1;33m,\u001b[0m \u001b[1;34m'_interval'\u001b[0m\u001b[1;33m)\u001b[0m\u001b[1;33m:\u001b[0m\u001b[1;33m\u001b[0m\u001b[0m\n\u001b[0;32m   1076\u001b[0m             \u001b[1;31m# Convert interval in ms to frames per second\u001b[0m\u001b[1;33m\u001b[0m\u001b[1;33m\u001b[0m\u001b[0m\n\u001b[1;32m-> 1077\u001b[1;33m             \u001b[0mfps\u001b[0m \u001b[1;33m=\u001b[0m \u001b[1;36m1000.\u001b[0m \u001b[1;33m/\u001b[0m \u001b[0mself\u001b[0m\u001b[1;33m.\u001b[0m\u001b[0m_interval\u001b[0m\u001b[1;33m\u001b[0m\u001b[0m\n\u001b[0m\u001b[0;32m   1078\u001b[0m \u001b[1;33m\u001b[0m\u001b[0m\n\u001b[0;32m   1079\u001b[0m         \u001b[1;31m# Re-use the savefig DPI for ours if none is given\u001b[0m\u001b[1;33m\u001b[0m\u001b[1;33m\u001b[0m\u001b[0m\n",
      "\u001b[1;31mZeroDivisionError\u001b[0m: float division by zero"
     ]
    }
   ],
   "source": [
    "anim.save('myAnimation.mp4', writer=writer)"
   ]
  },
  {
   "cell_type": "code",
   "execution_count": 16,
   "metadata": {},
   "outputs": [
    {
     "data": {
      "text/plain": [
       "<matplotlib.animation.FuncAnimation at 0x25ac1c812e8>"
      ]
     },
     "execution_count": 16,
     "metadata": {},
     "output_type": "execute_result"
    }
   ],
   "source": [
    "anim"
   ]
  },
  {
   "cell_type": "code",
   "execution_count": null,
   "metadata": {},
   "outputs": [],
   "source": []
  }
 ],
 "metadata": {
  "kernelspec": {
   "display_name": "Python 3",
   "language": "python",
   "name": "python3"
  },
  "language_info": {
   "codemirror_mode": {
    "name": "ipython",
    "version": 3
   },
   "file_extension": ".py",
   "mimetype": "text/x-python",
   "name": "python",
   "nbconvert_exporter": "python",
   "pygments_lexer": "ipython3",
   "version": "3.6.6"
  }
 },
 "nbformat": 4,
 "nbformat_minor": 2
}
